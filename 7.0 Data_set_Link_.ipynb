{
  "nbformat": 4,
  "nbformat_minor": 0,
  "metadata": {
    "colab": {
      "provenance": [],
      "authorship_tag": "ABX9TyPc+JlBifZ/sR2TDRfv0Mvd",
      "include_colab_link": true
    },
    "kernelspec": {
      "name": "python3",
      "display_name": "Python 3"
    },
    "language_info": {
      "name": "python"
    }
  },
  "cells": [
    {
      "cell_type": "markdown",
      "metadata": {
        "id": "view-in-github",
        "colab_type": "text"
      },
      "source": [
        "<a href=\"https://colab.research.google.com/github/DikshaDayal/Machine-Learning-part-04/blob/main/7.0%20Data_set_Link_.ipynb\" target=\"_parent\"><img src=\"https://colab.research.google.com/assets/colab-badge.svg\" alt=\"Open In Colab\"/></a>"
      ]
    },
    {
      "cell_type": "markdown",
      "source": [
        "**DATASET LINK :)**\n",
        "\n",
        "---\n",
        "\n",
        "\n",
        "\n",
        "---\n",
        "\n"
      ],
      "metadata": {
        "id": "cl-exFS0v7RQ"
      }
    },
    {
      "cell_type": "markdown",
      "source": [
        "✈  https://drive.google.com/drive/folders/12DCaNj6JKl2t6mZPwydCsrB2ho7UpiMu?usp=sharing"
      ],
      "metadata": {
        "id": "HpZ4txHUwIq8"
      }
    },
    {
      "cell_type": "code",
      "source": [],
      "metadata": {
        "id": "i67GPtiZwMSc"
      },
      "execution_count": null,
      "outputs": []
    }
  ]
}